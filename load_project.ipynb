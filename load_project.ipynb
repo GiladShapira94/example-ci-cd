{
 "cells": [
  {
   "cell_type": "markdown",
   "id": "4e2dbcd9",
   "metadata": {},
   "source": [
    "# Load project YAML from - Git, Zip, Tar source"
   ]
  },
  {
   "cell_type": "markdown",
   "id": "6cd95b51",
   "metadata": {},
   "source": [
    "After you created your project and you have a project.yaml files with all the necessery metadata you can simply load that project and run, build and deploy your functions and workflows.\n",
    "Please run the Create CI/CD Automation Using - Git source example notebook before you are running this one"
   ]
  },
  {
   "cell_type": "markdown",
   "id": "e9c670d7",
   "metadata": {},
   "source": [
    "This notebook will go over those steps to load CI/CD project in MLRun:\n",
    "1. Load or Create a new project for remote URL\n",
    "2. Get a function object \n",
    "3. Run a function\n",
    "4. Build a function\n",
    "5. Deploy a function\n",
    "6. Run a workflow"
   ]
  },
  {
   "cell_type": "markdown",
   "id": "8d0ba31f",
   "metadata": {},
   "source": [
    "Install mlrun - if does not install use ``pip install mlrun==<mlrun server version>`` or ``sh align_mlrun.sh`` (our default mlrun installer - automatically install the server version)"
   ]
  },
  {
   "cell_type": "code",
   "execution_count": 1,
   "id": "ade3dad1",
   "metadata": {},
   "outputs": [],
   "source": [
    "import mlrun"
   ]
  },
  {
   "cell_type": "markdown",
   "id": "8b52f04f",
   "metadata": {},
   "source": [
    "#### Load or Create a new project Based on an exciting project.yaml file"
   ]
  },
  {
   "cell_type": "markdown",
   "id": "0163fe3b",
   "metadata": {},
   "source": [
    "MLRun provides you three option to create or loading a project:\n",
    "\n",
    "1. [get_or_create_project](https://docs.mlrun.org/en/latest/api/mlrun.projects.html?highlight=get_or_create_project#mlrun.projects.get_or_create_project) - this method allows you to load a project from MLRun DB or optionally load it from a yaml/zip/tar/git template, and create a new project if doesnt exist\n",
    "2. [new_project](https://docs.mlrun.org/en/latest/api/mlrun.projects.html?highlight=new_project#mlrun.projects.new_project) - Create a new MLRun project, optionally load it from a yaml/zip/tar/git template.\n",
    "3. [load_project](https://docs.mlrun.org/en/latest/api/mlrun.projects.html?highlight=load_project#mlrun.projects.load_project) - Load an MLRun project from yaml/zip/tar/git/dir or from MLRun db\n"
   ]
  },
  {
   "cell_type": "code",
   "execution_count": 2,
   "id": "84b73bcb",
   "metadata": {},
   "outputs": [],
   "source": [
    "#project source to load from\n",
    "source = 'git://github.com/GiladShapira94/example-ci-cd.git#v1'"
   ]
  },
  {
   "cell_type": "markdown",
   "id": "4dc6beb0",
   "metadata": {},
   "source": [
    "**Note -** Please add git branch or refs to the source e.g.: 'git://<url>/org/repo.git#<branch-name or refs/heads/..>'"
   ]
  },
  {
   "cell_type": "code",
   "execution_count": 3,
   "id": "211da3ff",
   "metadata": {},
   "outputs": [],
   "source": [
    "project = mlrun.load_project('./clone',url=source,clone=True,name='my-load-proj-1')"
   ]
  },
  {
   "cell_type": "markdown",
   "id": "4bff7254",
   "metadata": {},
   "source": [
    "**context -** project local directory path (default value = \"./\")\n",
    "\n",
    "**url -**     name (in DB) or git or tar.gz or .zip sources archive\n",
    "\n",
    "**clone -**   if True, always clone (delete any existing content)\n",
    "\n",
    "**name -**    project name, if not use takes the value from the project.yaml file"
   ]
  },
  {
   "cell_type": "markdown",
   "id": "6787d292",
   "metadata": {},
   "source": [
    "By Specifying a url/remote address MLRun automatically clone your git repository or extract your tar/zip file"
   ]
  },
  {
   "cell_type": "markdown",
   "id": "e68dc4b0",
   "metadata": {},
   "source": [
    "**Secrets -** for working with private repo you need to provide a Gittoken as a secrets using mlrun or mlrun UI, for example:\n",
    "```\n",
    "#while loading from private repo\n",
    "project = mlrun.get_or_create_project(name='new-git-proj',context='./',init_git=True,secrest={\"GIT_TOKEN\":<github-token>})\n",
    "#while running functions in a project from a private repo\n",
    "project.set_secrets({\"GIT_TOKEN\":<github-token>}\n",
    "```"
   ]
  },
  {
   "cell_type": "code",
   "execution_count": 4,
   "id": "9e2e5402",
   "metadata": {},
   "outputs": [
    {
     "name": "stdout",
     "output_type": "stream",
     "text": [
      "kind: project\n",
      "metadata:\n",
      "  name: my-load-proj-1\n",
      "spec:\n",
      "  functions:\n",
      "  - url: ./src/data_fetch.py\n",
      "    name: data-fetch\n",
      "    kind: job\n",
      "    image: mlrun/mlrun\n",
      "    handler: data_fetch\n",
      "    with_repo: true\n",
      "    tag: v1\n",
      "  - url: ./src/train.py\n",
      "    name: train\n",
      "    kind: job\n",
      "    image: mlrun/mlrun\n",
      "    handler: train\n",
      "    with_repo: true\n",
      "    tag: v1\n",
      "  - url: ./src/serving.yaml\n",
      "    name: serving\n",
      "  workflows:\n",
      "  - path: ./src/workflow.py\n",
      "    name: main\n",
      "  artifacts:\n",
      "  - kind: model\n",
      "    metadata:\n",
      "      project: new-git-proj-shapira\n",
      "      tag: v1\n",
      "      key: model-test\n",
      "    spec:\n",
      "      target_path: v3io:///projects/new-git-proj-shapira/artifacts/a3df88a3-5d1f-4eab-b89e-773925e77a51/train/0/model/\n",
      "      model_file: model.pkl\n",
      "    status:\n",
      "      state: created\n",
      "  conda: ''\n",
      "  source: git://github.com/GiladShapira94/example-ci-cd.git#refs/heads/v1\n",
      "  origin_url: git://github.com/GiladShapira94/example-ci-cd.git#refs/heads/v1\n",
      "  load_source_on_run: true\n",
      "  desired_state: online\n",
      "\n"
     ]
    }
   ],
   "source": [
    "#print project yaml\n",
    "print(project.to_yaml())"
   ]
  },
  {
   "cell_type": "code",
   "execution_count": 5,
   "id": "4436e322",
   "metadata": {},
   "outputs": [
    {
     "name": "stdout",
     "output_type": "stream",
     "text": [
      "kind: job\n",
      "metadata:\n",
      "  name: data-fetch\n",
      "  tag: v1\n",
      "  project: my-load-proj-1\n",
      "  categories: []\n",
      "spec:\n",
      "  command: ./src/data_fetch.py\n",
      "  args: []\n",
      "  image: mlrun/mlrun\n",
      "  build:\n",
      "    source: git://github.com/GiladShapira94/example-ci-cd.git#refs/heads/v1\n",
      "    commands: []\n",
      "    code_origin: https://github.com/GiladShapira94/example-ci-cd.git#57f8c5aae8f95f580974028a88191c951cfeb69b\n",
      "    load_source_on_run: true\n",
      "  description: ''\n",
      "  default_handler: data_fetch\n",
      "  disable_auto_mount: true\n",
      "  volumes: []\n",
      "  volume_mounts: []\n",
      "  env:\n",
      "  - name: V3IO_API\n",
      "    value: v3io-webapi.default-tenant.svc:8081\n",
      "  - name: V3IO_USERNAME\n",
      "    value: shapira\n",
      "  - name: V3IO_ACCESS_KEY\n",
      "    value: 65e2966b-5c2b-4ea6-bf52-f2d0b829fe17\n",
      "  - name: V3IO_FRAMESD\n",
      "    value: framesd:8081\n",
      "  resources:\n",
      "    requests:\n",
      "      memory: 1Mi\n",
      "      cpu: 25m\n",
      "    limits:\n",
      "      memory: 20Gi\n",
      "      cpu: '2'\n",
      "  priority_class_name: igz-workload-medium\n",
      "  preemption_mode: prevent\n",
      "  affinity: null\n",
      "  tolerations: null\n",
      "  security_context: {}\n",
      "verbose: false\n",
      "\n"
     ]
    }
   ],
   "source": [
    "func = project.get_function('data-fetch',enrich=True)\n",
    "print(func.to_yaml())"
   ]
  },
  {
   "cell_type": "code",
   "execution_count": 6,
   "id": "57e17196",
   "metadata": {},
   "outputs": [
    {
     "name": "stdout",
     "output_type": "stream",
     "text": [
      "> 2023-04-25 13:19:07,048 [info] Storing function: {'name': 'data-fetch-data-fetch', 'uid': '38c84855194a420e94120937ae9decf5', 'db': 'http://mlrun-api:8080'}\n",
      "> 2023-04-25 13:19:07,330 [info] Job is running in the background, pod: data-fetch-data-fetch-6rvjl\n",
      "final state: completed\n"
     ]
    },
    {
     "data": {
      "text/html": [
       "<style>\n",
       ".dictlist {\n",
       "  background-color: #4EC64B;\n",
       "  text-align: center;\n",
       "  margin: 4px;\n",
       "  border-radius: 3px; padding: 0px 3px 1px 3px; display: inline-block;}\n",
       ".artifact {\n",
       "  cursor: pointer;\n",
       "  background-color: #4EC64B;\n",
       "  text-align: left;\n",
       "  margin: 4px; border-radius: 3px; padding: 0px 3px 1px 3px; display: inline-block;\n",
       "}\n",
       "div.block.hidden {\n",
       "  display: none;\n",
       "}\n",
       ".clickable {\n",
       "  cursor: pointer;\n",
       "}\n",
       ".ellipsis {\n",
       "  display: inline-block;\n",
       "  max-width: 60px;\n",
       "  white-space: nowrap;\n",
       "  overflow: hidden;\n",
       "  text-overflow: ellipsis;\n",
       "}\n",
       ".master-wrapper {\n",
       "  display: flex;\n",
       "  flex-flow: row nowrap;\n",
       "  justify-content: flex-start;\n",
       "  align-items: stretch;\n",
       "}\n",
       ".master-tbl {\n",
       "  flex: 3\n",
       "}\n",
       ".master-wrapper > div {\n",
       "  margin: 4px;\n",
       "  padding: 10px;\n",
       "}\n",
       "iframe.fileview {\n",
       "  border: 0 none;\n",
       "  height: 100%;\n",
       "  width: 100%;\n",
       "  white-space: pre-wrap;\n",
       "}\n",
       ".pane-header-title {\n",
       "  width: 80%;\n",
       "  font-weight: 500;\n",
       "}\n",
       ".pane-header {\n",
       "  line-height: 1;\n",
       "  background-color: #4EC64B;\n",
       "  padding: 3px;\n",
       "}\n",
       ".pane-header .close {\n",
       "  font-size: 20px;\n",
       "  font-weight: 700;\n",
       "  float: right;\n",
       "  margin-top: -5px;\n",
       "}\n",
       ".master-wrapper .right-pane {\n",
       "  border: 1px inset silver;\n",
       "  width: 40%;\n",
       "  min-height: 300px;\n",
       "  flex: 3\n",
       "  min-width: 500px;\n",
       "}\n",
       ".master-wrapper * {\n",
       "  box-sizing: border-box;\n",
       "}\n",
       "</style><script>\n",
       "function copyToClipboard(fld) {\n",
       "    if (document.queryCommandSupported && document.queryCommandSupported('copy')) {\n",
       "        var textarea = document.createElement('textarea');\n",
       "        textarea.textContent = fld.innerHTML;\n",
       "        textarea.style.position = 'fixed';\n",
       "        document.body.appendChild(textarea);\n",
       "        textarea.select();\n",
       "\n",
       "        try {\n",
       "            return document.execCommand('copy'); // Security exception may be thrown by some browsers.\n",
       "        } catch (ex) {\n",
       "\n",
       "        } finally {\n",
       "            document.body.removeChild(textarea);\n",
       "        }\n",
       "    }\n",
       "}\n",
       "function expandPanel(el) {\n",
       "  const panelName = \"#\" + el.getAttribute('paneName');\n",
       "  console.log(el.title);\n",
       "\n",
       "  document.querySelector(panelName + \"-title\").innerHTML = el.title\n",
       "  iframe = document.querySelector(panelName + \"-body\");\n",
       "\n",
       "  const tblcss = `<style> body { font-family: Arial, Helvetica, sans-serif;}\n",
       "    #csv { margin-bottom: 15px; }\n",
       "    #csv table { border-collapse: collapse;}\n",
       "    #csv table td { padding: 4px 8px; border: 1px solid silver;} </style>`;\n",
       "\n",
       "  function csvToHtmlTable(str) {\n",
       "    return '<div id=\"csv\"><table><tr><td>' +  str.replace(/[\\n\\r]+$/g, '').replace(/[\\n\\r]+/g, '</td></tr><tr><td>')\n",
       "      .replace(/,/g, '</td><td>') + '</td></tr></table></div>';\n",
       "  }\n",
       "\n",
       "  function reqListener () {\n",
       "    if (el.title.endsWith(\".csv\")) {\n",
       "      iframe.setAttribute(\"srcdoc\", tblcss + csvToHtmlTable(this.responseText));\n",
       "    } else {\n",
       "      iframe.setAttribute(\"srcdoc\", this.responseText);\n",
       "    }\n",
       "    console.log(this.responseText);\n",
       "  }\n",
       "\n",
       "  const oReq = new XMLHttpRequest();\n",
       "  oReq.addEventListener(\"load\", reqListener);\n",
       "  oReq.open(\"GET\", el.title);\n",
       "  oReq.send();\n",
       "\n",
       "\n",
       "  //iframe.src = el.title;\n",
       "  const resultPane = document.querySelector(panelName + \"-pane\");\n",
       "  if (resultPane.classList.contains(\"hidden\")) {\n",
       "    resultPane.classList.remove(\"hidden\");\n",
       "  }\n",
       "}\n",
       "function closePanel(el) {\n",
       "  const panelName = \"#\" + el.getAttribute('paneName')\n",
       "  const resultPane = document.querySelector(panelName + \"-pane\");\n",
       "  if (!resultPane.classList.contains(\"hidden\")) {\n",
       "    resultPane.classList.add(\"hidden\");\n",
       "  }\n",
       "}\n",
       "\n",
       "</script>\n",
       "<div class=\"master-wrapper\">\n",
       "  <div class=\"block master-tbl\"><div>\n",
       "<style scoped>\n",
       "    .dataframe tbody tr th:only-of-type {\n",
       "        vertical-align: middle;\n",
       "    }\n",
       "\n",
       "    .dataframe tbody tr th {\n",
       "        vertical-align: top;\n",
       "    }\n",
       "\n",
       "    .dataframe thead th {\n",
       "        text-align: right;\n",
       "    }\n",
       "</style>\n",
       "<table border=\"1\" class=\"dataframe\">\n",
       "  <thead>\n",
       "    <tr style=\"text-align: right;\">\n",
       "      <th>project</th>\n",
       "      <th>uid</th>\n",
       "      <th>iter</th>\n",
       "      <th>start</th>\n",
       "      <th>state</th>\n",
       "      <th>name</th>\n",
       "      <th>labels</th>\n",
       "      <th>inputs</th>\n",
       "      <th>parameters</th>\n",
       "      <th>results</th>\n",
       "      <th>artifacts</th>\n",
       "    </tr>\n",
       "  </thead>\n",
       "  <tbody>\n",
       "    <tr>\n",
       "      <td>my-load-proj-1</td>\n",
       "      <td><div title=\"38c84855194a420e94120937ae9decf5\"><a href=\"https://dashboard.default-tenant.app.cust-cs-il-3-5-2.iguazio-cd2.com/mlprojects/my-load-proj-1/jobs/monitor/38c84855194a420e94120937ae9decf5/overview\" target=\"_blank\" >...ae9decf5</a></div></td>\n",
       "      <td>0</td>\n",
       "      <td>Apr 25 13:19:11</td>\n",
       "      <td>completed</td>\n",
       "      <td>data-fetch-data-fetch</td>\n",
       "      <td><div class=\"dictlist\">v3io_user=shapira</div><div class=\"dictlist\">kind=job</div><div class=\"dictlist\">owner=shapira</div><div class=\"dictlist\">mlrun/client_version=1.3.0</div><div class=\"dictlist\">mlrun/client_python_version=3.7.6</div><div class=\"dictlist\">host=data-fetch-data-fetch-6rvjl</div></td>\n",
       "      <td></td>\n",
       "      <td></td>\n",
       "      <td></td>\n",
       "      <td><div title=\"v3io:///projects/my-load-proj-1/artifacts/data-fetch-data-fetch/0/train-dataset.parquet\">train-dataset</div><div title=\"v3io:///projects/my-load-proj-1/artifacts/data-fetch-data-fetch/0/test-dataset.parquet\">test-dataset</div></td>\n",
       "    </tr>\n",
       "  </tbody>\n",
       "</table>\n",
       "</div></div>\n",
       "  <div id=\"result588d5117-pane\" class=\"right-pane block hidden\">\n",
       "    <div class=\"pane-header\">\n",
       "      <span id=\"result588d5117-title\" class=\"pane-header-title\">Title</span>\n",
       "      <span onclick=\"closePanel(this)\" paneName=\"result588d5117\" class=\"close clickable\">&times;</span>\n",
       "    </div>\n",
       "    <iframe class=\"fileview\" id=\"result588d5117-body\"></iframe>\n",
       "  </div>\n",
       "</div>\n"
      ],
      "text/plain": [
       "<IPython.core.display.HTML object>"
      ]
     },
     "metadata": {},
     "output_type": "display_data"
    },
    {
     "name": "stdout",
     "output_type": "stream",
     "text": [
      "\n"
     ]
    },
    {
     "data": {
      "text/html": [
       "<b> > to track results use the .show() or .logs() methods  or <a href=\"https://dashboard.default-tenant.app.cust-cs-il-3-5-2.iguazio-cd2.com/mlprojects/my-load-proj-1/jobs/monitor/38c84855194a420e94120937ae9decf5/overview\" target=\"_blank\">click here</a> to open in UI</b>"
      ],
      "text/plain": [
       "<IPython.core.display.HTML object>"
      ]
     },
     "metadata": {},
     "output_type": "display_data"
    },
    {
     "name": "stdout",
     "output_type": "stream",
     "text": [
      "> 2023-04-25 13:19:20,546 [info] run executed, status=completed: {'name': 'data-fetch-data-fetch'}\n"
     ]
    },
    {
     "data": {
      "text/plain": [
       "<mlrun.model.RunObject at 0x7f305d032fd0>"
      ]
     },
     "execution_count": 6,
     "metadata": {},
     "output_type": "execute_result"
    }
   ],
   "source": [
    "func.run(returns=['train-dataset','test-dataset'])"
   ]
  },
  {
   "cell_type": "markdown",
   "id": "60d074d1",
   "metadata": {},
   "source": [
    "#### Run Function \n",
    "For run a function you will need to use the [project.run_function](https://docs.mlrun.org/en/latest/api/mlrun.projects.html?highlight=run_function#mlrun.projects.MlrunProject.run_function) method.\n",
    "This method allows you to run a MLRun jobs locally and remotely as long as there is no requirments ( if there is any requirments you will need to build a new image before you run a function)"
   ]
  },
  {
   "cell_type": "code",
   "execution_count": 7,
   "id": "a2da5c82",
   "metadata": {},
   "outputs": [
    {
     "name": "stdout",
     "output_type": "stream",
     "text": [
      "> 2023-04-25 13:19:20,594 [info] Storing function: {'name': 'data-fetch-data-fetch', 'uid': '6d933dc0937d4f11a720062e8d87b4a9', 'db': 'http://mlrun-api:8080'}\n"
     ]
    },
    {
     "data": {
      "text/html": [
       "<style>\n",
       ".dictlist {\n",
       "  background-color: #4EC64B;\n",
       "  text-align: center;\n",
       "  margin: 4px;\n",
       "  border-radius: 3px; padding: 0px 3px 1px 3px; display: inline-block;}\n",
       ".artifact {\n",
       "  cursor: pointer;\n",
       "  background-color: #4EC64B;\n",
       "  text-align: left;\n",
       "  margin: 4px; border-radius: 3px; padding: 0px 3px 1px 3px; display: inline-block;\n",
       "}\n",
       "div.block.hidden {\n",
       "  display: none;\n",
       "}\n",
       ".clickable {\n",
       "  cursor: pointer;\n",
       "}\n",
       ".ellipsis {\n",
       "  display: inline-block;\n",
       "  max-width: 60px;\n",
       "  white-space: nowrap;\n",
       "  overflow: hidden;\n",
       "  text-overflow: ellipsis;\n",
       "}\n",
       ".master-wrapper {\n",
       "  display: flex;\n",
       "  flex-flow: row nowrap;\n",
       "  justify-content: flex-start;\n",
       "  align-items: stretch;\n",
       "}\n",
       ".master-tbl {\n",
       "  flex: 3\n",
       "}\n",
       ".master-wrapper > div {\n",
       "  margin: 4px;\n",
       "  padding: 10px;\n",
       "}\n",
       "iframe.fileview {\n",
       "  border: 0 none;\n",
       "  height: 100%;\n",
       "  width: 100%;\n",
       "  white-space: pre-wrap;\n",
       "}\n",
       ".pane-header-title {\n",
       "  width: 80%;\n",
       "  font-weight: 500;\n",
       "}\n",
       ".pane-header {\n",
       "  line-height: 1;\n",
       "  background-color: #4EC64B;\n",
       "  padding: 3px;\n",
       "}\n",
       ".pane-header .close {\n",
       "  font-size: 20px;\n",
       "  font-weight: 700;\n",
       "  float: right;\n",
       "  margin-top: -5px;\n",
       "}\n",
       ".master-wrapper .right-pane {\n",
       "  border: 1px inset silver;\n",
       "  width: 40%;\n",
       "  min-height: 300px;\n",
       "  flex: 3\n",
       "  min-width: 500px;\n",
       "}\n",
       ".master-wrapper * {\n",
       "  box-sizing: border-box;\n",
       "}\n",
       "</style><script>\n",
       "function copyToClipboard(fld) {\n",
       "    if (document.queryCommandSupported && document.queryCommandSupported('copy')) {\n",
       "        var textarea = document.createElement('textarea');\n",
       "        textarea.textContent = fld.innerHTML;\n",
       "        textarea.style.position = 'fixed';\n",
       "        document.body.appendChild(textarea);\n",
       "        textarea.select();\n",
       "\n",
       "        try {\n",
       "            return document.execCommand('copy'); // Security exception may be thrown by some browsers.\n",
       "        } catch (ex) {\n",
       "\n",
       "        } finally {\n",
       "            document.body.removeChild(textarea);\n",
       "        }\n",
       "    }\n",
       "}\n",
       "function expandPanel(el) {\n",
       "  const panelName = \"#\" + el.getAttribute('paneName');\n",
       "  console.log(el.title);\n",
       "\n",
       "  document.querySelector(panelName + \"-title\").innerHTML = el.title\n",
       "  iframe = document.querySelector(panelName + \"-body\");\n",
       "\n",
       "  const tblcss = `<style> body { font-family: Arial, Helvetica, sans-serif;}\n",
       "    #csv { margin-bottom: 15px; }\n",
       "    #csv table { border-collapse: collapse;}\n",
       "    #csv table td { padding: 4px 8px; border: 1px solid silver;} </style>`;\n",
       "\n",
       "  function csvToHtmlTable(str) {\n",
       "    return '<div id=\"csv\"><table><tr><td>' +  str.replace(/[\\n\\r]+$/g, '').replace(/[\\n\\r]+/g, '</td></tr><tr><td>')\n",
       "      .replace(/,/g, '</td><td>') + '</td></tr></table></div>';\n",
       "  }\n",
       "\n",
       "  function reqListener () {\n",
       "    if (el.title.endsWith(\".csv\")) {\n",
       "      iframe.setAttribute(\"srcdoc\", tblcss + csvToHtmlTable(this.responseText));\n",
       "    } else {\n",
       "      iframe.setAttribute(\"srcdoc\", this.responseText);\n",
       "    }\n",
       "    console.log(this.responseText);\n",
       "  }\n",
       "\n",
       "  const oReq = new XMLHttpRequest();\n",
       "  oReq.addEventListener(\"load\", reqListener);\n",
       "  oReq.open(\"GET\", el.title);\n",
       "  oReq.send();\n",
       "\n",
       "\n",
       "  //iframe.src = el.title;\n",
       "  const resultPane = document.querySelector(panelName + \"-pane\");\n",
       "  if (resultPane.classList.contains(\"hidden\")) {\n",
       "    resultPane.classList.remove(\"hidden\");\n",
       "  }\n",
       "}\n",
       "function closePanel(el) {\n",
       "  const panelName = \"#\" + el.getAttribute('paneName')\n",
       "  const resultPane = document.querySelector(panelName + \"-pane\");\n",
       "  if (!resultPane.classList.contains(\"hidden\")) {\n",
       "    resultPane.classList.add(\"hidden\");\n",
       "  }\n",
       "}\n",
       "\n",
       "</script>\n",
       "<div class=\"master-wrapper\">\n",
       "  <div class=\"block master-tbl\"><div>\n",
       "<style scoped>\n",
       "    .dataframe tbody tr th:only-of-type {\n",
       "        vertical-align: middle;\n",
       "    }\n",
       "\n",
       "    .dataframe tbody tr th {\n",
       "        vertical-align: top;\n",
       "    }\n",
       "\n",
       "    .dataframe thead th {\n",
       "        text-align: right;\n",
       "    }\n",
       "</style>\n",
       "<table border=\"1\" class=\"dataframe\">\n",
       "  <thead>\n",
       "    <tr style=\"text-align: right;\">\n",
       "      <th>project</th>\n",
       "      <th>uid</th>\n",
       "      <th>iter</th>\n",
       "      <th>start</th>\n",
       "      <th>state</th>\n",
       "      <th>name</th>\n",
       "      <th>labels</th>\n",
       "      <th>inputs</th>\n",
       "      <th>parameters</th>\n",
       "      <th>results</th>\n",
       "      <th>artifacts</th>\n",
       "    </tr>\n",
       "  </thead>\n",
       "  <tbody>\n",
       "    <tr>\n",
       "      <td>my-load-proj-1</td>\n",
       "      <td><div title=\"6d933dc0937d4f11a720062e8d87b4a9\"><a href=\"https://dashboard.default-tenant.app.cust-cs-il-3-5-2.iguazio-cd2.com/mlprojects/my-load-proj-1/jobs/monitor/6d933dc0937d4f11a720062e8d87b4a9/overview\" target=\"_blank\" >...8d87b4a9</a></div></td>\n",
       "      <td>0</td>\n",
       "      <td>Apr 25 13:19:20</td>\n",
       "      <td>completed</td>\n",
       "      <td>data-fetch-data-fetch</td>\n",
       "      <td><div class=\"dictlist\">v3io_user=shapira</div><div class=\"dictlist\">kind=</div><div class=\"dictlist\">owner=shapira</div><div class=\"dictlist\">host=jupyter-shapira-7fc985f9db-mpfrc</div></td>\n",
       "      <td></td>\n",
       "      <td></td>\n",
       "      <td></td>\n",
       "      <td><div title=\"v3io:///projects/my-load-proj-1/artifacts/data-fetch-data-fetch/0/train-dataset.parquet\">train-dataset</div><div title=\"v3io:///projects/my-load-proj-1/artifacts/data-fetch-data-fetch/0/test-dataset.parquet\">test-dataset</div></td>\n",
       "    </tr>\n",
       "  </tbody>\n",
       "</table>\n",
       "</div></div>\n",
       "  <div id=\"result45ebe63c-pane\" class=\"right-pane block hidden\">\n",
       "    <div class=\"pane-header\">\n",
       "      <span id=\"result45ebe63c-title\" class=\"pane-header-title\">Title</span>\n",
       "      <span onclick=\"closePanel(this)\" paneName=\"result45ebe63c\" class=\"close clickable\">&times;</span>\n",
       "    </div>\n",
       "    <iframe class=\"fileview\" id=\"result45ebe63c-body\"></iframe>\n",
       "  </div>\n",
       "</div>\n"
      ],
      "text/plain": [
       "<IPython.core.display.HTML object>"
      ]
     },
     "metadata": {},
     "output_type": "display_data"
    },
    {
     "name": "stdout",
     "output_type": "stream",
     "text": [
      "\n"
     ]
    },
    {
     "data": {
      "text/html": [
       "<b> > to track results use the .show() or .logs() methods  or <a href=\"https://dashboard.default-tenant.app.cust-cs-il-3-5-2.iguazio-cd2.com/mlprojects/my-load-proj-1/jobs/monitor/6d933dc0937d4f11a720062e8d87b4a9/overview\" target=\"_blank\">click here</a> to open in UI</b>"
      ],
      "text/plain": [
       "<IPython.core.display.HTML object>"
      ]
     },
     "metadata": {},
     "output_type": "display_data"
    },
    {
     "name": "stdout",
     "output_type": "stream",
     "text": [
      "> 2023-04-25 13:19:34,784 [info] run executed, status=completed: {'name': 'data-fetch-data-fetch'}\n"
     ]
    },
    {
     "data": {
      "text/plain": [
       "<mlrun.model.RunObject at 0x7f302e6e8590>"
      ]
     },
     "execution_count": 7,
     "metadata": {},
     "output_type": "execute_result"
    }
   ],
   "source": [
    "project.run_function(function='data-fetch',local=True,returns=['train-dataset','test-dataset'])"
   ]
  },
  {
   "cell_type": "code",
   "execution_count": 8,
   "id": "1fc362ca",
   "metadata": {},
   "outputs": [
    {
     "name": "stdout",
     "output_type": "stream",
     "text": [
      "> 2023-04-25 13:19:34,820 [info] Storing function: {'name': 'data-fetch-data-fetch', 'uid': 'cda361deb1094df994bf319546940e8b', 'db': 'http://mlrun-api:8080'}\n",
      "> 2023-04-25 13:19:35,054 [info] Job is running in the background, pod: data-fetch-data-fetch-xzj6t\n",
      "final state: completed\n"
     ]
    },
    {
     "data": {
      "text/html": [
       "<style>\n",
       ".dictlist {\n",
       "  background-color: #4EC64B;\n",
       "  text-align: center;\n",
       "  margin: 4px;\n",
       "  border-radius: 3px; padding: 0px 3px 1px 3px; display: inline-block;}\n",
       ".artifact {\n",
       "  cursor: pointer;\n",
       "  background-color: #4EC64B;\n",
       "  text-align: left;\n",
       "  margin: 4px; border-radius: 3px; padding: 0px 3px 1px 3px; display: inline-block;\n",
       "}\n",
       "div.block.hidden {\n",
       "  display: none;\n",
       "}\n",
       ".clickable {\n",
       "  cursor: pointer;\n",
       "}\n",
       ".ellipsis {\n",
       "  display: inline-block;\n",
       "  max-width: 60px;\n",
       "  white-space: nowrap;\n",
       "  overflow: hidden;\n",
       "  text-overflow: ellipsis;\n",
       "}\n",
       ".master-wrapper {\n",
       "  display: flex;\n",
       "  flex-flow: row nowrap;\n",
       "  justify-content: flex-start;\n",
       "  align-items: stretch;\n",
       "}\n",
       ".master-tbl {\n",
       "  flex: 3\n",
       "}\n",
       ".master-wrapper > div {\n",
       "  margin: 4px;\n",
       "  padding: 10px;\n",
       "}\n",
       "iframe.fileview {\n",
       "  border: 0 none;\n",
       "  height: 100%;\n",
       "  width: 100%;\n",
       "  white-space: pre-wrap;\n",
       "}\n",
       ".pane-header-title {\n",
       "  width: 80%;\n",
       "  font-weight: 500;\n",
       "}\n",
       ".pane-header {\n",
       "  line-height: 1;\n",
       "  background-color: #4EC64B;\n",
       "  padding: 3px;\n",
       "}\n",
       ".pane-header .close {\n",
       "  font-size: 20px;\n",
       "  font-weight: 700;\n",
       "  float: right;\n",
       "  margin-top: -5px;\n",
       "}\n",
       ".master-wrapper .right-pane {\n",
       "  border: 1px inset silver;\n",
       "  width: 40%;\n",
       "  min-height: 300px;\n",
       "  flex: 3\n",
       "  min-width: 500px;\n",
       "}\n",
       ".master-wrapper * {\n",
       "  box-sizing: border-box;\n",
       "}\n",
       "</style><script>\n",
       "function copyToClipboard(fld) {\n",
       "    if (document.queryCommandSupported && document.queryCommandSupported('copy')) {\n",
       "        var textarea = document.createElement('textarea');\n",
       "        textarea.textContent = fld.innerHTML;\n",
       "        textarea.style.position = 'fixed';\n",
       "        document.body.appendChild(textarea);\n",
       "        textarea.select();\n",
       "\n",
       "        try {\n",
       "            return document.execCommand('copy'); // Security exception may be thrown by some browsers.\n",
       "        } catch (ex) {\n",
       "\n",
       "        } finally {\n",
       "            document.body.removeChild(textarea);\n",
       "        }\n",
       "    }\n",
       "}\n",
       "function expandPanel(el) {\n",
       "  const panelName = \"#\" + el.getAttribute('paneName');\n",
       "  console.log(el.title);\n",
       "\n",
       "  document.querySelector(panelName + \"-title\").innerHTML = el.title\n",
       "  iframe = document.querySelector(panelName + \"-body\");\n",
       "\n",
       "  const tblcss = `<style> body { font-family: Arial, Helvetica, sans-serif;}\n",
       "    #csv { margin-bottom: 15px; }\n",
       "    #csv table { border-collapse: collapse;}\n",
       "    #csv table td { padding: 4px 8px; border: 1px solid silver;} </style>`;\n",
       "\n",
       "  function csvToHtmlTable(str) {\n",
       "    return '<div id=\"csv\"><table><tr><td>' +  str.replace(/[\\n\\r]+$/g, '').replace(/[\\n\\r]+/g, '</td></tr><tr><td>')\n",
       "      .replace(/,/g, '</td><td>') + '</td></tr></table></div>';\n",
       "  }\n",
       "\n",
       "  function reqListener () {\n",
       "    if (el.title.endsWith(\".csv\")) {\n",
       "      iframe.setAttribute(\"srcdoc\", tblcss + csvToHtmlTable(this.responseText));\n",
       "    } else {\n",
       "      iframe.setAttribute(\"srcdoc\", this.responseText);\n",
       "    }\n",
       "    console.log(this.responseText);\n",
       "  }\n",
       "\n",
       "  const oReq = new XMLHttpRequest();\n",
       "  oReq.addEventListener(\"load\", reqListener);\n",
       "  oReq.open(\"GET\", el.title);\n",
       "  oReq.send();\n",
       "\n",
       "\n",
       "  //iframe.src = el.title;\n",
       "  const resultPane = document.querySelector(panelName + \"-pane\");\n",
       "  if (resultPane.classList.contains(\"hidden\")) {\n",
       "    resultPane.classList.remove(\"hidden\");\n",
       "  }\n",
       "}\n",
       "function closePanel(el) {\n",
       "  const panelName = \"#\" + el.getAttribute('paneName')\n",
       "  const resultPane = document.querySelector(panelName + \"-pane\");\n",
       "  if (!resultPane.classList.contains(\"hidden\")) {\n",
       "    resultPane.classList.add(\"hidden\");\n",
       "  }\n",
       "}\n",
       "\n",
       "</script>\n",
       "<div class=\"master-wrapper\">\n",
       "  <div class=\"block master-tbl\"><div>\n",
       "<style scoped>\n",
       "    .dataframe tbody tr th:only-of-type {\n",
       "        vertical-align: middle;\n",
       "    }\n",
       "\n",
       "    .dataframe tbody tr th {\n",
       "        vertical-align: top;\n",
       "    }\n",
       "\n",
       "    .dataframe thead th {\n",
       "        text-align: right;\n",
       "    }\n",
       "</style>\n",
       "<table border=\"1\" class=\"dataframe\">\n",
       "  <thead>\n",
       "    <tr style=\"text-align: right;\">\n",
       "      <th>project</th>\n",
       "      <th>uid</th>\n",
       "      <th>iter</th>\n",
       "      <th>start</th>\n",
       "      <th>state</th>\n",
       "      <th>name</th>\n",
       "      <th>labels</th>\n",
       "      <th>inputs</th>\n",
       "      <th>parameters</th>\n",
       "      <th>results</th>\n",
       "      <th>artifacts</th>\n",
       "    </tr>\n",
       "  </thead>\n",
       "  <tbody>\n",
       "    <tr>\n",
       "      <td>my-load-proj-1</td>\n",
       "      <td><div title=\"cda361deb1094df994bf319546940e8b\"><a href=\"https://dashboard.default-tenant.app.cust-cs-il-3-5-2.iguazio-cd2.com/mlprojects/my-load-proj-1/jobs/monitor/cda361deb1094df994bf319546940e8b/overview\" target=\"_blank\" >...46940e8b</a></div></td>\n",
       "      <td>0</td>\n",
       "      <td>Apr 25 13:19:39</td>\n",
       "      <td>completed</td>\n",
       "      <td>data-fetch-data-fetch</td>\n",
       "      <td><div class=\"dictlist\">v3io_user=shapira</div><div class=\"dictlist\">kind=job</div><div class=\"dictlist\">owner=shapira</div><div class=\"dictlist\">mlrun/client_version=1.3.0</div><div class=\"dictlist\">mlrun/client_python_version=3.7.6</div><div class=\"dictlist\">host=data-fetch-data-fetch-xzj6t</div></td>\n",
       "      <td></td>\n",
       "      <td></td>\n",
       "      <td></td>\n",
       "      <td><div title=\"v3io:///projects/my-load-proj-1/artifacts/data-fetch-data-fetch/0/train-dataset.parquet\">train-dataset</div><div title=\"v3io:///projects/my-load-proj-1/artifacts/data-fetch-data-fetch/0/test-dataset.parquet\">test-dataset</div></td>\n",
       "    </tr>\n",
       "  </tbody>\n",
       "</table>\n",
       "</div></div>\n",
       "  <div id=\"result3042d934-pane\" class=\"right-pane block hidden\">\n",
       "    <div class=\"pane-header\">\n",
       "      <span id=\"result3042d934-title\" class=\"pane-header-title\">Title</span>\n",
       "      <span onclick=\"closePanel(this)\" paneName=\"result3042d934\" class=\"close clickable\">&times;</span>\n",
       "    </div>\n",
       "    <iframe class=\"fileview\" id=\"result3042d934-body\"></iframe>\n",
       "  </div>\n",
       "</div>\n"
      ],
      "text/plain": [
       "<IPython.core.display.HTML object>"
      ]
     },
     "metadata": {},
     "output_type": "display_data"
    },
    {
     "name": "stdout",
     "output_type": "stream",
     "text": [
      "\n"
     ]
    },
    {
     "data": {
      "text/html": [
       "<b> > to track results use the .show() or .logs() methods  or <a href=\"https://dashboard.default-tenant.app.cust-cs-il-3-5-2.iguazio-cd2.com/mlprojects/my-load-proj-1/jobs/monitor/cda361deb1094df994bf319546940e8b/overview\" target=\"_blank\">click here</a> to open in UI</b>"
      ],
      "text/plain": [
       "<IPython.core.display.HTML object>"
      ]
     },
     "metadata": {},
     "output_type": "display_data"
    },
    {
     "name": "stdout",
     "output_type": "stream",
     "text": [
      "> 2023-04-25 13:19:48,251 [info] run executed, status=completed: {'name': 'data-fetch-data-fetch'}\n"
     ]
    }
   ],
   "source": [
    "data_fetch_run = project.run_function(function='data-fetch',local=False,returns=['train-dataset','test-dataset'])"
   ]
  },
  {
   "cell_type": "code",
   "execution_count": 9,
   "id": "e234db07",
   "metadata": {},
   "outputs": [
    {
     "name": "stdout",
     "output_type": "stream",
     "text": [
      "> 2023-04-25 13:19:48,368 [info] Storing function: {'name': 'train-train', 'uid': 'a12a185ab2454241a390148e393032dc', 'db': 'http://mlrun-api:8080'}\n",
      "> 2023-04-25 13:19:48,589 [info] Job is running in the background, pod: train-train-jtg88\n",
      "final state: completed\n"
     ]
    },
    {
     "data": {
      "text/html": [
       "<style>\n",
       ".dictlist {\n",
       "  background-color: #4EC64B;\n",
       "  text-align: center;\n",
       "  margin: 4px;\n",
       "  border-radius: 3px; padding: 0px 3px 1px 3px; display: inline-block;}\n",
       ".artifact {\n",
       "  cursor: pointer;\n",
       "  background-color: #4EC64B;\n",
       "  text-align: left;\n",
       "  margin: 4px; border-radius: 3px; padding: 0px 3px 1px 3px; display: inline-block;\n",
       "}\n",
       "div.block.hidden {\n",
       "  display: none;\n",
       "}\n",
       ".clickable {\n",
       "  cursor: pointer;\n",
       "}\n",
       ".ellipsis {\n",
       "  display: inline-block;\n",
       "  max-width: 60px;\n",
       "  white-space: nowrap;\n",
       "  overflow: hidden;\n",
       "  text-overflow: ellipsis;\n",
       "}\n",
       ".master-wrapper {\n",
       "  display: flex;\n",
       "  flex-flow: row nowrap;\n",
       "  justify-content: flex-start;\n",
       "  align-items: stretch;\n",
       "}\n",
       ".master-tbl {\n",
       "  flex: 3\n",
       "}\n",
       ".master-wrapper > div {\n",
       "  margin: 4px;\n",
       "  padding: 10px;\n",
       "}\n",
       "iframe.fileview {\n",
       "  border: 0 none;\n",
       "  height: 100%;\n",
       "  width: 100%;\n",
       "  white-space: pre-wrap;\n",
       "}\n",
       ".pane-header-title {\n",
       "  width: 80%;\n",
       "  font-weight: 500;\n",
       "}\n",
       ".pane-header {\n",
       "  line-height: 1;\n",
       "  background-color: #4EC64B;\n",
       "  padding: 3px;\n",
       "}\n",
       ".pane-header .close {\n",
       "  font-size: 20px;\n",
       "  font-weight: 700;\n",
       "  float: right;\n",
       "  margin-top: -5px;\n",
       "}\n",
       ".master-wrapper .right-pane {\n",
       "  border: 1px inset silver;\n",
       "  width: 40%;\n",
       "  min-height: 300px;\n",
       "  flex: 3\n",
       "  min-width: 500px;\n",
       "}\n",
       ".master-wrapper * {\n",
       "  box-sizing: border-box;\n",
       "}\n",
       "</style><script>\n",
       "function copyToClipboard(fld) {\n",
       "    if (document.queryCommandSupported && document.queryCommandSupported('copy')) {\n",
       "        var textarea = document.createElement('textarea');\n",
       "        textarea.textContent = fld.innerHTML;\n",
       "        textarea.style.position = 'fixed';\n",
       "        document.body.appendChild(textarea);\n",
       "        textarea.select();\n",
       "\n",
       "        try {\n",
       "            return document.execCommand('copy'); // Security exception may be thrown by some browsers.\n",
       "        } catch (ex) {\n",
       "\n",
       "        } finally {\n",
       "            document.body.removeChild(textarea);\n",
       "        }\n",
       "    }\n",
       "}\n",
       "function expandPanel(el) {\n",
       "  const panelName = \"#\" + el.getAttribute('paneName');\n",
       "  console.log(el.title);\n",
       "\n",
       "  document.querySelector(panelName + \"-title\").innerHTML = el.title\n",
       "  iframe = document.querySelector(panelName + \"-body\");\n",
       "\n",
       "  const tblcss = `<style> body { font-family: Arial, Helvetica, sans-serif;}\n",
       "    #csv { margin-bottom: 15px; }\n",
       "    #csv table { border-collapse: collapse;}\n",
       "    #csv table td { padding: 4px 8px; border: 1px solid silver;} </style>`;\n",
       "\n",
       "  function csvToHtmlTable(str) {\n",
       "    return '<div id=\"csv\"><table><tr><td>' +  str.replace(/[\\n\\r]+$/g, '').replace(/[\\n\\r]+/g, '</td></tr><tr><td>')\n",
       "      .replace(/,/g, '</td><td>') + '</td></tr></table></div>';\n",
       "  }\n",
       "\n",
       "  function reqListener () {\n",
       "    if (el.title.endsWith(\".csv\")) {\n",
       "      iframe.setAttribute(\"srcdoc\", tblcss + csvToHtmlTable(this.responseText));\n",
       "    } else {\n",
       "      iframe.setAttribute(\"srcdoc\", this.responseText);\n",
       "    }\n",
       "    console.log(this.responseText);\n",
       "  }\n",
       "\n",
       "  const oReq = new XMLHttpRequest();\n",
       "  oReq.addEventListener(\"load\", reqListener);\n",
       "  oReq.open(\"GET\", el.title);\n",
       "  oReq.send();\n",
       "\n",
       "\n",
       "  //iframe.src = el.title;\n",
       "  const resultPane = document.querySelector(panelName + \"-pane\");\n",
       "  if (resultPane.classList.contains(\"hidden\")) {\n",
       "    resultPane.classList.remove(\"hidden\");\n",
       "  }\n",
       "}\n",
       "function closePanel(el) {\n",
       "  const panelName = \"#\" + el.getAttribute('paneName')\n",
       "  const resultPane = document.querySelector(panelName + \"-pane\");\n",
       "  if (!resultPane.classList.contains(\"hidden\")) {\n",
       "    resultPane.classList.add(\"hidden\");\n",
       "  }\n",
       "}\n",
       "\n",
       "</script>\n",
       "<div class=\"master-wrapper\">\n",
       "  <div class=\"block master-tbl\"><div>\n",
       "<style scoped>\n",
       "    .dataframe tbody tr th:only-of-type {\n",
       "        vertical-align: middle;\n",
       "    }\n",
       "\n",
       "    .dataframe tbody tr th {\n",
       "        vertical-align: top;\n",
       "    }\n",
       "\n",
       "    .dataframe thead th {\n",
       "        text-align: right;\n",
       "    }\n",
       "</style>\n",
       "<table border=\"1\" class=\"dataframe\">\n",
       "  <thead>\n",
       "    <tr style=\"text-align: right;\">\n",
       "      <th>project</th>\n",
       "      <th>uid</th>\n",
       "      <th>iter</th>\n",
       "      <th>start</th>\n",
       "      <th>state</th>\n",
       "      <th>name</th>\n",
       "      <th>labels</th>\n",
       "      <th>inputs</th>\n",
       "      <th>parameters</th>\n",
       "      <th>results</th>\n",
       "      <th>artifacts</th>\n",
       "    </tr>\n",
       "  </thead>\n",
       "  <tbody>\n",
       "    <tr>\n",
       "      <td>my-load-proj-1</td>\n",
       "      <td><div title=\"a12a185ab2454241a390148e393032dc\"><a href=\"https://dashboard.default-tenant.app.cust-cs-il-3-5-2.iguazio-cd2.com/mlprojects/my-load-proj-1/jobs/monitor/a12a185ab2454241a390148e393032dc/overview\" target=\"_blank\" >...393032dc</a></div></td>\n",
       "      <td>0</td>\n",
       "      <td>Apr 25 13:19:52</td>\n",
       "      <td>completed</td>\n",
       "      <td>train-train</td>\n",
       "      <td><div class=\"dictlist\">v3io_user=shapira</div><div class=\"dictlist\">kind=job</div><div class=\"dictlist\">owner=shapira</div><div class=\"dictlist\">mlrun/client_version=1.3.0</div><div class=\"dictlist\">mlrun/client_python_version=3.7.6</div><div class=\"dictlist\">host=train-train-jtg88</div></td>\n",
       "      <td><div title=\"store://artifacts/my-load-proj-1/data-fetch-data-fetch_train-dataset:cda361deb1094df994bf319546940e8b\">train_data</div><div title=\"store://artifacts/my-load-proj-1/data-fetch-data-fetch_test-dataset:cda361deb1094df994bf319546940e8b\">test_data</div></td>\n",
       "      <td></td>\n",
       "      <td><div class=\"dictlist\">accuracy=0.75</div><div class=\"dictlist\">f1_score=0.6666666666666666</div><div class=\"dictlist\">precision_score=0.7142857142857143</div><div class=\"dictlist\">recall_score=0.625</div></td>\n",
       "      <td><div class=\"artifact\" onclick=\"expandPanel(this)\" paneName=\"result3a7d024e\" title=\"files/v3io/projects/my-load-proj-1/artifacts/train-train/0/feature-importance.html\">feature-importance</div><div title=\"v3io:///projects/my-load-proj-1/artifacts/train-train/0/test_set.parquet\">test_set</div><div class=\"artifact\" onclick=\"expandPanel(this)\" paneName=\"result3a7d024e\" title=\"files/v3io/projects/my-load-proj-1/artifacts/train-train/0/confusion-matrix.html\">confusion-matrix</div><div class=\"artifact\" onclick=\"expandPanel(this)\" paneName=\"result3a7d024e\" title=\"files/v3io/projects/my-load-proj-1/artifacts/train-train/0/roc-curves.html\">roc-curves</div><div class=\"artifact\" onclick=\"expandPanel(this)\" paneName=\"result3a7d024e\" title=\"files/v3io/projects/my-load-proj-1/artifacts/train-train/0/calibration-curve.html\">calibration-curve</div><div title=\"v3io:///projects/my-load-proj-1/artifacts/train-train/0/model/\">model</div></td>\n",
       "    </tr>\n",
       "  </tbody>\n",
       "</table>\n",
       "</div></div>\n",
       "  <div id=\"result3a7d024e-pane\" class=\"right-pane block hidden\">\n",
       "    <div class=\"pane-header\">\n",
       "      <span id=\"result3a7d024e-title\" class=\"pane-header-title\">Title</span>\n",
       "      <span onclick=\"closePanel(this)\" paneName=\"result3a7d024e\" class=\"close clickable\">&times;</span>\n",
       "    </div>\n",
       "    <iframe class=\"fileview\" id=\"result3a7d024e-body\"></iframe>\n",
       "  </div>\n",
       "</div>\n"
      ],
      "text/plain": [
       "<IPython.core.display.HTML object>"
      ]
     },
     "metadata": {},
     "output_type": "display_data"
    },
    {
     "name": "stdout",
     "output_type": "stream",
     "text": [
      "\n"
     ]
    },
    {
     "data": {
      "text/html": [
       "<b> > to track results use the .show() or .logs() methods  or <a href=\"https://dashboard.default-tenant.app.cust-cs-il-3-5-2.iguazio-cd2.com/mlprojects/my-load-proj-1/jobs/monitor/a12a185ab2454241a390148e393032dc/overview\" target=\"_blank\">click here</a> to open in UI</b>"
      ],
      "text/plain": [
       "<IPython.core.display.HTML object>"
      ]
     },
     "metadata": {},
     "output_type": "display_data"
    },
    {
     "name": "stdout",
     "output_type": "stream",
     "text": [
      "> 2023-04-25 13:20:09,827 [info] run executed, status=completed: {'name': 'train-train'}\n"
     ]
    }
   ],
   "source": [
    "train_run = project.run_function(function='train',inputs={'train_data':data_fetch_run.outputs['train-dataset'],'test_data':data_fetch_run.outputs['test-dataset']})"
   ]
  },
  {
   "cell_type": "markdown",
   "id": "85566d23",
   "metadata": {},
   "source": [
    "#### Get Function Object \n",
    "To get function object you will need to use the [project.get_function](https://docs.mlrun.org/en/latest/api/mlrun.projects.html?highlight=get_function#mlrun.projects.MlrunProject.get_function) method.\n",
    "\n",
    "This method allows you to get a function object based on the metadata in your project YAML file.\n",
    "````\n",
    "serving_func = project.get_function('<function name>')\n",
    "````"
   ]
  },
  {
   "cell_type": "code",
   "execution_count": 10,
   "id": "355771f9",
   "metadata": {},
   "outputs": [],
   "source": [
    "serving_func = project.get_function('serving')"
   ]
  },
  {
   "cell_type": "markdown",
   "id": "5cbe9527",
   "metadata": {},
   "source": [
    "**Note -** this serving function is pointing to a model file, this model path value is stored in the function spec if you want to change it (maybe you want to use a newer model file) you need to add the model to the function object and then deploy the function or change the function.yaml in the remote source, see below example:\n",
    "```\n",
    "serving_func = project.get_function('serving')\n",
    "serving_func.add_model(key='model',model_path=train_run.outputs[\"model\"], class_name='mlrun.frameworks.sklearn.SklearnModelServer')\n",
    "serving_dep = project.deploy_function('serving')\n",
    "```"
   ]
  },
  {
   "cell_type": "markdown",
   "id": "4ecc1994",
   "metadata": {},
   "source": [
    "Test your serving funciton locally before deploying it"
   ]
  },
  {
   "cell_type": "code",
   "execution_count": 11,
   "id": "bff4e6ee",
   "metadata": {},
   "outputs": [
    {
     "name": "stdout",
     "output_type": "stream",
     "text": [
      "> 2023-04-25 13:20:09,925 [warning] run command, file or code were not specified\n",
      "> 2023-04-25 13:20:12,570 [info] model model was loaded\n",
      "> 2023-04-25 13:20:12,571 [info] Loaded ['model']\n"
     ]
    }
   ],
   "source": [
    "serving_server = serving_func.to_mock_server()"
   ]
  },
  {
   "cell_type": "code",
   "execution_count": 12,
   "id": "a7a17b70",
   "metadata": {},
   "outputs": [],
   "source": [
    "my_data = '''{\"inputs\":[[-0.60150011,  0.51150308,  0.25701239, -1.51777297, -1.82961288,\n",
    "         0.22983693, -0.40761625,  0.82325082,  1.1779216 ,  1.08424275,\n",
    "        -0.7031145 , -0.40608979, -0.36305977,  1.28075006,  0.94445967,\n",
    "         1.19105828,  1.93498414,  0.69911167,  0.50759757,  0.91565635]]}'''"
   ]
  },
  {
   "cell_type": "code",
   "execution_count": 13,
   "id": "d30cdb71",
   "metadata": {},
   "outputs": [
    {
     "name": "stderr",
     "output_type": "stream",
     "text": [
      "X does not have valid feature names, but GradientBoostingClassifier was fitted with feature names\n"
     ]
    },
    {
     "data": {
      "text/plain": [
       "{'id': 'eee557b105ec419c843092aeea41efc4',\n",
       " 'model_name': 'model',\n",
       " 'outputs': [1]}"
      ]
     },
     "execution_count": 13,
     "metadata": {},
     "output_type": "execute_result"
    }
   ],
   "source": [
    "serving_server.test('/',my_data)"
   ]
  },
  {
   "cell_type": "markdown",
   "id": "db7c9e14",
   "metadata": {},
   "source": [
    "#### Deploy Function\n",
    "For deploying a remote function e.g nuclio or serving functions you will need to use the [project.deploy_function](https://docs.mlrun.org/en/latest/api/mlrun.projects.html?highlight=deploy_function#mlrun.projects.MlrunProject.deploy_function) method.\n",
    "\n",
    "You must use this method before invoke nuclio or serving fucntions.\n",
    "````\n",
    "nuclio_func=project.deploy_function(function='<function name>')\n",
    "\n",
    "nuclio_func.function.invoke('/',{'int':4})\n",
    "````"
   ]
  },
  {
   "cell_type": "code",
   "execution_count": 14,
   "id": "c0b4e6e9",
   "metadata": {},
   "outputs": [
    {
     "name": "stdout",
     "output_type": "stream",
     "text": [
      "> 2023-04-25 13:20:12,653 [info] Starting remote function deploy\n",
      "2023-04-25 13:20:13  (info) Deploying function\n",
      "2023-04-25 13:20:13  (info) Building\n",
      "2023-04-25 13:20:13  (info) Staging files and preparing base images\n",
      "2023-04-25 13:20:14  (info) Building processor image\n",
      "2023-04-25 13:21:14  (info) Build complete\n",
      "2023-04-25 13:21:28  (info) Function deploy complete\n",
      "> 2023-04-25 13:21:35,346 [info] successfully deployed function: {'internal_invocation_urls': ['nuclio-my-load-proj-1-serving-v1.default-tenant.svc.cluster.local:8080'], 'external_invocation_urls': ['my-load-proj-1-serving-v1-my-load-proj-1.default-tenant.app.cust-cs-il-3-5-2.iguazio-cd2.com/']}\n"
     ]
    }
   ],
   "source": [
    "serving_dep = project.deploy_function('serving')"
   ]
  },
  {
   "cell_type": "code",
   "execution_count": 15,
   "id": "30ca7144",
   "metadata": {},
   "outputs": [
    {
     "name": "stdout",
     "output_type": "stream",
     "text": [
      "> 2023-04-25 13:21:35,423 [info] invoking function: {'method': 'POST', 'path': 'http://nuclio-my-load-proj-1-serving-v1.default-tenant.svc.cluster.local:8080/'}\n"
     ]
    },
    {
     "data": {
      "text/plain": [
       "{'id': '46f9ee7e-0959-4010-995d-aa31b4afb327',\n",
       " 'model_name': 'model',\n",
       " 'outputs': [1]}"
      ]
     },
     "execution_count": 15,
     "metadata": {},
     "output_type": "execute_result"
    }
   ],
   "source": [
    "serving_dep.function.invoke('/',my_data)"
   ]
  },
  {
   "cell_type": "markdown",
   "id": "f85ddd7c",
   "metadata": {},
   "source": [
    "#### Run a workflow"
   ]
  },
  {
   "cell_type": "code",
   "execution_count": 16,
   "id": "ea7e3214",
   "metadata": {},
   "outputs": [
    {
     "data": {
      "text/html": [
       "<div>Pipeline running (id=cb8eb7b5-b732-4122-b079-762852456f10), <a href=\"https://dashboard.default-tenant.app.cust-cs-il-3-5-2.iguazio-cd2.com/mlprojects/my-load-proj-1/jobs/monitor-workflows/workflow/cb8eb7b5-b732-4122-b079-762852456f10\" target=\"_blank\"><b>click here</b></a> to view the details in MLRun UI</div>"
      ],
      "text/plain": [
       "<IPython.core.display.HTML object>"
      ]
     },
     "metadata": {},
     "output_type": "display_data"
    },
    {
     "data": {
      "image/svg+xml": [
       "<?xml version=\"1.0\" encoding=\"UTF-8\" standalone=\"no\"?>\n",
       "<!DOCTYPE svg PUBLIC \"-//W3C//DTD SVG 1.1//EN\"\n",
       " \"http://www.w3.org/Graphics/SVG/1.1/DTD/svg11.dtd\">\n",
       "<!-- Generated by graphviz version 2.40.1 (20161225.0304)\n",
       " -->\n",
       "<!-- Title: kfp Pages: 1 -->\n",
       "<svg width=\"130pt\" height=\"188pt\"\n",
       " viewBox=\"0.00 0.00 130.00 188.00\" xmlns=\"http://www.w3.org/2000/svg\" xmlns:xlink=\"http://www.w3.org/1999/xlink\">\n",
       "<g id=\"graph0\" class=\"graph\" transform=\"scale(1 1) rotate(0) translate(4 184)\">\n",
       "<title>kfp</title>\n",
       "<polygon fill=\"#ffffff\" stroke=\"transparent\" points=\"-4,4 -4,-184 126,-184 126,4 -4,4\"/>\n",
       "<!-- ci&#45;cd&#45;tutorial&#45;8x2zw&#45;1876355204 -->\n",
       "<g id=\"node1\" class=\"node\">\n",
       "<title>ci&#45;cd&#45;tutorial&#45;8x2zw&#45;1876355204</title>\n",
       "<polygon fill=\"#00ff00\" stroke=\"#000000\" points=\"122,-36 4,-36 0,-32 0,0 118,0 122,-4 122,-36\"/>\n",
       "<polyline fill=\"none\" stroke=\"#000000\" points=\"118,-32 0,-32 \"/>\n",
       "<polyline fill=\"none\" stroke=\"#000000\" points=\"118,-32 118,0 \"/>\n",
       "<polyline fill=\"none\" stroke=\"#000000\" points=\"118,-32 122,-36 \"/>\n",
       "<text text-anchor=\"middle\" x=\"61\" y=\"-14.3\" font-family=\"Times,serif\" font-size=\"14.00\" fill=\"#000000\">deploy&#45;serving</text>\n",
       "</g>\n",
       "<!-- ci&#45;cd&#45;tutorial&#45;8x2zw&#45;1893235727 -->\n",
       "<g id=\"node2\" class=\"node\">\n",
       "<title>ci&#45;cd&#45;tutorial&#45;8x2zw&#45;1893235727</title>\n",
       "<ellipse fill=\"#00ff00\" stroke=\"#000000\" cx=\"61\" cy=\"-162\" rx=\"57.6901\" ry=\"18\"/>\n",
       "<text text-anchor=\"middle\" x=\"61\" y=\"-158.3\" font-family=\"Times,serif\" font-size=\"14.00\" fill=\"#000000\">data&#45;fetch</text>\n",
       "</g>\n",
       "<!-- ci&#45;cd&#45;tutorial&#45;8x2zw&#45;847601116 -->\n",
       "<g id=\"node3\" class=\"node\">\n",
       "<title>ci&#45;cd&#45;tutorial&#45;8x2zw&#45;847601116</title>\n",
       "<ellipse fill=\"#00ff00\" stroke=\"#000000\" cx=\"61\" cy=\"-90\" rx=\"33.2948\" ry=\"18\"/>\n",
       "<text text-anchor=\"middle\" x=\"61\" y=\"-86.3\" font-family=\"Times,serif\" font-size=\"14.00\" fill=\"#000000\">train</text>\n",
       "</g>\n",
       "<!-- ci&#45;cd&#45;tutorial&#45;8x2zw&#45;1893235727&#45;&gt;ci&#45;cd&#45;tutorial&#45;8x2zw&#45;847601116 -->\n",
       "<g id=\"edge1\" class=\"edge\">\n",
       "<title>ci&#45;cd&#45;tutorial&#45;8x2zw&#45;1893235727&#45;&gt;ci&#45;cd&#45;tutorial&#45;8x2zw&#45;847601116</title>\n",
       "<path fill=\"none\" stroke=\"#000000\" d=\"M61,-143.8314C61,-136.131 61,-126.9743 61,-118.4166\"/>\n",
       "<polygon fill=\"#000000\" stroke=\"#000000\" points=\"64.5001,-118.4132 61,-108.4133 57.5001,-118.4133 64.5001,-118.4132\"/>\n",
       "</g>\n",
       "<!-- ci&#45;cd&#45;tutorial&#45;8x2zw&#45;847601116&#45;&gt;ci&#45;cd&#45;tutorial&#45;8x2zw&#45;1876355204 -->\n",
       "<g id=\"edge2\" class=\"edge\">\n",
       "<title>ci&#45;cd&#45;tutorial&#45;8x2zw&#45;847601116&#45;&gt;ci&#45;cd&#45;tutorial&#45;8x2zw&#45;1876355204</title>\n",
       "<path fill=\"none\" stroke=\"#000000\" d=\"M61,-71.8314C61,-64.131 61,-54.9743 61,-46.4166\"/>\n",
       "<polygon fill=\"#000000\" stroke=\"#000000\" points=\"64.5001,-46.4132 61,-36.4133 57.5001,-46.4133 64.5001,-46.4132\"/>\n",
       "</g>\n",
       "</g>\n",
       "</svg>\n"
      ],
      "text/plain": [
       "<graphviz.graphs.Digraph at 0x7f305d014c90>"
      ]
     },
     "metadata": {},
     "output_type": "display_data"
    },
    {
     "data": {
      "text/html": [
       "<h2>Run Results</h2><h3>[info] Workflow cb8eb7b5-b732-4122-b079-762852456f10 finished, state=Succeeded</h3><br>click the hyper links below to see detailed results<br><table border=\"1\" class=\"dataframe\">\n",
       "  <thead>\n",
       "    <tr style=\"text-align: right;\">\n",
       "      <th>uid</th>\n",
       "      <th>start</th>\n",
       "      <th>state</th>\n",
       "      <th>name</th>\n",
       "      <th>parameters</th>\n",
       "      <th>results</th>\n",
       "    </tr>\n",
       "  </thead>\n",
       "  <tbody>\n",
       "    <tr>\n",
       "      <td><div title=\"a3ec424fc55f41d7a8b45e2401bfc437\"><a href=\"https://dashboard.default-tenant.app.cust-cs-il-3-5-2.iguazio-cd2.com/mlprojects/my-load-proj-1/jobs/monitor/a3ec424fc55f41d7a8b45e2401bfc437/overview\" target=\"_blank\" >...01bfc437</a></div></td>\n",
       "      <td>Apr 25 13:22:21</td>\n",
       "      <td>completed</td>\n",
       "      <td>train</td>\n",
       "      <td></td>\n",
       "      <td><div class=\"dictlist\">accuracy=0.9</div><div class=\"dictlist\">f1_score=0.923076923076923</div><div class=\"dictlist\">precision_score=1.0</div><div class=\"dictlist\">recall_score=0.8571428571428571</div></td>\n",
       "    </tr>\n",
       "    <tr>\n",
       "      <td><div title=\"aeb52fd237d140b5915884d64935ccaf\"><a href=\"https://dashboard.default-tenant.app.cust-cs-il-3-5-2.iguazio-cd2.com/mlprojects/my-load-proj-1/jobs/monitor/aeb52fd237d140b5915884d64935ccaf/overview\" target=\"_blank\" >...4935ccaf</a></div></td>\n",
       "      <td>Apr 25 13:21:52</td>\n",
       "      <td>completed</td>\n",
       "      <td>data-fetch</td>\n",
       "      <td></td>\n",
       "      <td></td>\n",
       "    </tr>\n",
       "  </tbody>\n",
       "</table>"
      ],
      "text/plain": [
       "<IPython.core.display.HTML object>"
      ]
     },
     "metadata": {},
     "output_type": "display_data"
    },
    {
     "data": {
      "text/plain": [
       "cb8eb7b5-b732-4122-b079-762852456f10"
      ]
     },
     "execution_count": 16,
     "metadata": {},
     "output_type": "execute_result"
    }
   ],
   "source": [
    "# run workflow named main and wait for pipeline completion (watch=True)\n",
    "project.run('main',watch=True,engine=\"remote:kfp\")"
   ]
  },
  {
   "cell_type": "markdown",
   "id": "e5358959",
   "metadata": {},
   "source": [
    "**Run Schedule workflow**\n",
    "\n",
    "For more inforation about scheduling workflows, please check this [link](https://docs.mlrun.org/en/latest/concepts/scheduled-jobs.html)"
   ]
  },
  {
   "cell_type": "code",
   "execution_count": 17,
   "id": "942987ef",
   "metadata": {},
   "outputs": [
    {
     "name": "stdout",
     "output_type": "stream",
     "text": [
      "> 2023-04-25 13:24:23,322 [warning] WARNING!, you seem to have uncommitted git changes, use .push()\n",
      "> 2023-04-25 13:24:23,326 [info] executing workflow scheduling 'workflow-runner-main' remotely with kfp engine\n",
      "> 2023-04-25 13:24:23,332 [info] Storing function: {'name': 'main', 'uid': '6a27afb9ccda40b89d3e38e9053c9fed', 'db': 'http://mlrun-api:8080'}\n",
      "> 2023-04-25 13:24:23,686 [info] task schedule created: {'schedule': '0 * * * *', 'project': 'my-load-proj-1', 'name': 'main'}\n"
     ]
    }
   ],
   "source": [
    "project.run('main',watch=True,schedule='0 * * * *')"
   ]
  },
  {
   "cell_type": "code",
   "execution_count": null,
   "id": "1a033d12",
   "metadata": {},
   "outputs": [],
   "source": []
  }
 ],
 "metadata": {
  "kernelspec": {
   "display_name": "Python 3 (ipykernel)",
   "language": "python",
   "name": "python3"
  },
  "language_info": {
   "codemirror_mode": {
    "name": "ipython",
    "version": 3
   },
   "file_extension": ".py",
   "mimetype": "text/x-python",
   "name": "python",
   "nbconvert_exporter": "python",
   "pygments_lexer": "ipython3",
   "version": "3.7.6"
  }
 },
 "nbformat": 4,
 "nbformat_minor": 5
}
